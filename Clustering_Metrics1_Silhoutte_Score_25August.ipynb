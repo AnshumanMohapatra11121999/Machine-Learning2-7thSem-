{
  "nbformat": 4,
  "nbformat_minor": 0,
  "metadata": {
    "colab": {
      "provenance": [],
      "authorship_tag": "ABX9TyMgNyh6wh6JfZTQep+F5tHN",
      "include_colab_link": true
    },
    "kernelspec": {
      "name": "python3",
      "display_name": "Python 3"
    },
    "language_info": {
      "name": "python"
    }
  },
  "cells": [
    {
      "cell_type": "markdown",
      "metadata": {
        "id": "view-in-github",
        "colab_type": "text"
      },
      "source": [
        "<a href=\"https://colab.research.google.com/github/AnshumanMohapatra11121999/Machine-Learning2-7thSem-/blob/main/Clustering_Metrics1_Silhoutte_Score_25August.ipynb\" target=\"_parent\"><img src=\"https://colab.research.google.com/assets/colab-badge.svg\" alt=\"Open In Colab\"/></a>"
      ]
    },
    {
      "cell_type": "markdown",
      "source": [
        "\n",
        "\n",
        "---\n",
        "\n"
      ],
      "metadata": {
        "id": "W4nA7U2sHqd2"
      }
    },
    {
      "cell_type": "code",
      "execution_count": 7,
      "metadata": {
        "id": "Rv9ALFP7HsH6"
      },
      "outputs": [],
      "source": [
        "from sklearn.cluster import KMeans\n",
        "from sklearn.metrics import silhouette_score\n",
        "import matplotlib.pyplot as plt\n",
        "import pandas as pd\n",
        "import numpy as np"
      ]
    },
    {
      "cell_type": "code",
      "source": [
        "#Silhouette score measures how similar an object is to its own cluster (cohesion) compared to other clusters (separation).\n",
        "#It ranges from -1 to 1.\n",
        "# Higher values indicate better-defined clusters, where data points are closer to their own cluster and farther from other clusters."
      ],
      "metadata": {
        "id": "YsWrozNVHxnB"
      },
      "execution_count": null,
      "outputs": []
    },
    {
      "cell_type": "code",
      "source": [
        "data = np.array([(3, 7), (9, 8), (5, 4), (2, 6), (5, 6)])\n",
        "labels = np.array([0, 0, 1, 1, 2])\n",
        "\n"
      ],
      "metadata": {
        "id": "EjDJDE8aDuTf"
      },
      "execution_count": 8,
      "outputs": []
    },
    {
      "cell_type": "code",
      "source": [
        "Silhoutte_Score = silhouette_score(data,labels)\n",
        "print(\"The average silhouette score is\",Silhoutte_Score)"
      ],
      "metadata": {
        "id": "YjqomTKUMMu4",
        "colab": {
          "base_uri": "https://localhost:8080/"
        },
        "outputId": "f8d97046-76e8-423b-a23f-919293f9f98a"
      },
      "execution_count": 9,
      "outputs": [
        {
          "output_type": "stream",
          "name": "stdout",
          "text": [
            "The average silhouette score is -0.3020855152592431\n"
          ]
        }
      ]
    }
  ]
}